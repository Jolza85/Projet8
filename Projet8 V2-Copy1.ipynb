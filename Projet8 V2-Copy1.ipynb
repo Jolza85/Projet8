{
 "cells": [
  {
   "cell_type": "code",
   "execution_count": 46,
   "id": "013f8aa3",
   "metadata": {},
   "outputs": [],
   "source": [
    "# On importe les bibliothèques utiles pour le projet\n",
    "import keras\n",
    "import tensorflow as tf\n",
    "import pandas as pd\n",
    "import matplotlib.pyplot as plt\n",
    "import numpy as np\n",
    "import seaborn as sns\n",
    "import os\n",
    "import cv2\n",
    "# Les functions écrites dans un fichier externe\n",
    "from functions import *\n",
    "from collections import namedtuple\n",
    "\n",
    "from keras_segmentation.models.unet import vgg_unet, resnet50_unet\n",
    "from keras_segmentation.models.fcn import fcn_8_vgg, fcn_8_resnet50, fcn_32_resnet50\n",
    "from keras_segmentation.models.segnet import vgg_segnet, resnet50_segnet\n",
    "from keras import backend as K\n",
    "from keras.utils import Sequence\n",
    "from keras.callbacks import Callback, TensorBoard, ModelCheckpoint, EarlyStopping\n",
    "from tensorflow.keras.preprocessing.image import ImageDataGenerator\n",
    "import keras.utils as image\n",
    "from numba import cuda\n",
    "#from keras.utils import multi_gpu_model\n",
    "from dilatednet import DilatedNet\n",
    "from models import vgg16unet, build_vgg16_unet"
   ]
  },
  {
   "cell_type": "markdown",
   "id": "d367ade3",
   "metadata": {},
   "source": [
    "# Importation des images (Train/Validation/Test)"
   ]
  },
  {
   "cell_type": "code",
   "execution_count": 6,
   "id": "abfd0c1e",
   "metadata": {},
   "outputs": [],
   "source": [
    "def dice_coeff(y_true, y_pred):\n",
    "    smooth = 1.\n",
    "    y_true_f = K.flatten(y_true)\n",
    "    y_pred_f = K.flatten(y_pred)\n",
    "    intersection = K.sum(y_true_f * y_pred_f)\n",
    "    score = (2. * intersection + smooth) / (K.sum(y_true_f) + K.sum(y_pred_f) + smooth)\n",
    "    return score\n",
    "\n",
    "def dice_loss(y_true, y_pred):\n",
    "    loss = 1 - dice_coeff(y_true, y_pred)\n",
    "    return loss\n",
    "\n",
    "def total_loss(y_true, y_pred):\n",
    "    loss = binary_crossentropy(y_true, y_pred) + (3*dice_loss(y_true, y_pred))\n",
    "    return loss"
   ]
  },
  {
   "cell_type": "code",
   "execution_count": 7,
   "id": "0af13439",
   "metadata": {},
   "outputs": [],
   "source": [
    "cats = {'void': [0, 1, 2, 3, 4, 5, 6],\n",
    " 'flat': [7, 8, 9, 10],\n",
    " 'construction': [11, 12, 13, 14, 15, 16],\n",
    " 'object': [17, 18, 19, 20],\n",
    " 'nature': [21, 22],\n",
    " 'sky': [23],\n",
    " 'human': [24, 25],\n",
    " 'vehicle': [26, 27, 28, 29, 30, 31, 32, 33, -1]}"
   ]
  },
  {
   "cell_type": "code",
   "execution_count": 15,
   "id": "ddf9f8a9",
   "metadata": {},
   "outputs": [],
   "source": [
    "batch_size = 16\n",
    "samples = 50000\n",
    "steps = samples//batch_size\n",
    "img_height, img_width = 128, 128\n",
    "classes = 8\n",
    "filters_n = 64"
   ]
  },
  {
   "cell_type": "markdown",
   "id": "dcad3981",
   "metadata": {},
   "source": [
    "## Test des modèles VGG16"
   ]
  },
  {
   "cell_type": "markdown",
   "id": "063de2f9",
   "metadata": {},
   "source": [
    "### Test du modèle créé à partir du modèle pré-entrainé vgg16_U-Net"
   ]
  },
  {
   "cell_type": "code",
   "execution_count": 21,
   "id": "2399454b",
   "metadata": {},
   "outputs": [],
   "source": [
    "input_shape = (256, 256, 3)\n",
    "build_vgg16 = build_vgg16_unet(input_shape)\n",
    "build_vgg16.compile(optimizer='adam', loss='categorical_crossentropy', metrics=[dice_coeff, 'accuracy', tf.keras.metrics.MeanIoU(num_classes=8)])"
   ]
  },
  {
   "cell_type": "code",
   "execution_count": 22,
   "id": "73719254",
   "metadata": {},
   "outputs": [
    {
     "name": "stdout",
     "output_type": "stream",
     "text": [
      "Epoch 1/3\n",
      "6250/6250 [==============================] - ETA: 0s - loss: 0.2924 - dice_coeff: 0.0586 - accuracy: 0.1486 - mean_io_u: 0.4896WARNING:tensorflow:Can save best model only with acc available, skipping.\n",
      "WARNING:tensorflow:Early stopping conditioned on metric `acc` which is not available. Available metrics are: loss,dice_coeff,accuracy,mean_io_u,val_loss,val_dice_coeff,val_accuracy,val_mean_io_u\n",
      "6250/6250 [==============================] - 2068s 329ms/step - loss: 0.2924 - dice_coeff: 0.0586 - accuracy: 0.1486 - mean_io_u: 0.4896 - val_loss: 0.2872 - val_dice_coeff: 0.0485 - val_accuracy: 0.1650 - val_mean_io_u: 0.4900\n",
      "Epoch 2/3\n",
      "6250/6250 [==============================] - ETA: 0s - loss: 0.2994 - dice_coeff: 0.0506 - accuracy: 0.0960 - mean_io_u: 0.4896WARNING:tensorflow:Can save best model only with acc available, skipping.\n",
      "WARNING:tensorflow:Early stopping conditioned on metric `acc` which is not available. Available metrics are: loss,dice_coeff,accuracy,mean_io_u,val_loss,val_dice_coeff,val_accuracy,val_mean_io_u\n",
      "6250/6250 [==============================] - 2064s 330ms/step - loss: 0.2994 - dice_coeff: 0.0506 - accuracy: 0.0960 - mean_io_u: 0.4896 - val_loss: 0.2933 - val_dice_coeff: 0.0541 - val_accuracy: 0.2130 - val_mean_io_u: 0.4895\n",
      "Epoch 3/3\n",
      "6250/6250 [==============================] - ETA: 0s - loss: 0.2890 - dice_coeff: 0.0541 - accuracy: 0.0746 - mean_io_u: 0.4896WARNING:tensorflow:Can save best model only with acc available, skipping.\n",
      "WARNING:tensorflow:Early stopping conditioned on metric `acc` which is not available. Available metrics are: loss,dice_coeff,accuracy,mean_io_u,val_loss,val_dice_coeff,val_accuracy,val_mean_io_u\n",
      "6250/6250 [==============================] - 2050s 328ms/step - loss: 0.2890 - dice_coeff: 0.0541 - accuracy: 0.0746 - mean_io_u: 0.4896 - val_loss: 0.3007 - val_dice_coeff: 0.0562 - val_accuracy: 0.0659 - val_mean_io_u: 0.4892\n"
     ]
    }
   ],
   "source": [
    "hist_build_vgg16 = build_vgg16.fit(train_gen_vgg16, validation_data=val_gen_vgg16, steps_per_epoch=steps, epochs=3, callbacks=callbacks, workers=8)"
   ]
  },
  {
   "cell_type": "code",
   "execution_count": 64,
   "id": "506aa1d8",
   "metadata": {},
   "outputs": [],
   "source": [
    "# Charger le modèle\n",
    "model = tf.keras.models.load_model('best_model', custom_objects={'dice_coeff': dice_coeff})"
   ]
  },
  {
   "cell_type": "code",
   "execution_count": 73,
   "id": "d9d82da0",
   "metadata": {},
   "outputs": [],
   "source": [
    "img_path = 'datas/images/test/berlin/berlin_000000_000019_leftImg8bit.png'\n",
    "img = image.load_img(img_path, target_size=(256, 256)) \n",
    "# Convertir l'image en tableau NumPy et prétraiter\n",
    "img_array = image.img_to_array(img)\n",
    "img_array = np.expand_dims(img_array, axis=0)  # Ajouter une dimension pour correspondre à la forme attendue par le modèle\n",
    "#img_array = img_array / 255.0  # Normaliser les valeurs des pixels si nécessaire"
   ]
  },
  {
   "cell_type": "code",
   "execution_count": 74,
   "id": "0f584d21",
   "metadata": {},
   "outputs": [
    {
     "name": "stdout",
     "output_type": "stream",
     "text": [
      "1/1 [==============================] - 0s 20ms/step\n"
     ]
    }
   ],
   "source": [
    "predictions = model.predict(img_array)"
   ]
  },
  {
   "cell_type": "code",
   "execution_count": 84,
   "id": "fac1ee8e",
   "metadata": {},
   "outputs": [
    {
     "data": {
      "text/plain": [
       "array([[[[3.33117874e-04, 2.49747818e+02, 3.85630399e-01, ...,\n",
       "          3.84700489e+00, 1.34907097e-01, 4.60554242e-01],\n",
       "         [1.19670236e-04, 2.47634537e+02, 2.41517704e-02, ...,\n",
       "          1.01379771e-03, 2.68156373e-06, 5.93778431e-01],\n",
       "         [2.88964096e-19, 2.55000000e+02, 6.34107877e-09, ...,\n",
       "          2.02461388e-16, 6.69742040e-14, 1.18033912e-08],\n",
       "         ...,\n",
       "         [1.97796035e-04, 2.54808533e+02, 8.95208344e-02, ...,\n",
       "          9.40329337e-05, 2.47932062e-03, 9.71442908e-02],\n",
       "         [6.02403522e-01, 2.33310501e+02, 1.05537786e+01, ...,\n",
       "          2.80297607e-01, 1.30744469e+00, 7.24464989e+00],\n",
       "         [6.21597329e-10, 2.54999512e+02, 1.88886133e-05, ...,\n",
       "          3.16294754e-04, 1.14275033e-04, 1.27713174e-05]],\n",
       "\n",
       "        [[2.55000000e+02, 6.19081815e-29, 3.10172847e-27, ...,\n",
       "          0.00000000e+00, 3.14698934e-15, 2.03659389e-19],\n",
       "         [2.55000000e+02, 0.00000000e+00, 0.00000000e+00, ...,\n",
       "          0.00000000e+00, 0.00000000e+00, 0.00000000e+00],\n",
       "         [2.55000000e+02, 0.00000000e+00, 0.00000000e+00, ...,\n",
       "          0.00000000e+00, 0.00000000e+00, 0.00000000e+00],\n",
       "         ...,\n",
       "         [2.55000000e+02, 0.00000000e+00, 0.00000000e+00, ...,\n",
       "          0.00000000e+00, 1.29309733e-33, 0.00000000e+00],\n",
       "         [0.00000000e+00, 0.00000000e+00, 0.00000000e+00, ...,\n",
       "          0.00000000e+00, 2.55000000e+02, 3.78693781e-31],\n",
       "         [4.98139191e+01, 2.26450558e+01, 5.83243027e+01, ...,\n",
       "          2.27653179e+01, 2.51315689e+01, 2.73507576e+01]],\n",
       "\n",
       "        [[4.98139191e+01, 2.26450558e+01, 5.83243027e+01, ...,\n",
       "          2.27653179e+01, 2.51315689e+01, 2.73507576e+01],\n",
       "         [4.98139191e+01, 2.26450558e+01, 5.83243027e+01, ...,\n",
       "          2.27653179e+01, 2.51315689e+01, 2.73507576e+01],\n",
       "         [3.59920348e-04, 1.06010440e-15, 2.54952011e+02, ...,\n",
       "          1.54173285e-05, 4.22063493e-23, 7.77221169e-15],\n",
       "         ...,\n",
       "         [2.54999878e+02, 3.14993517e-12, 1.07771782e-04, ...,\n",
       "          1.29448485e-16, 3.89551003e-15, 7.00523550e-09],\n",
       "         [6.91142349e-28, 6.07726868e-13, 6.34219943e-15, ...,\n",
       "          7.95361307e-03, 3.06177902e+00, 5.06935362e-11],\n",
       "         [4.98139191e+01, 2.26450558e+01, 5.83243027e+01, ...,\n",
       "          2.27653179e+01, 2.51315689e+01, 2.73507576e+01]],\n",
       "\n",
       "        ...,\n",
       "\n",
       "        [[4.98139191e+01, 2.26450558e+01, 5.83243027e+01, ...,\n",
       "          2.27653179e+01, 2.51315689e+01, 2.73507576e+01],\n",
       "         [2.54647949e+02, 4.38549577e-20, 2.14115197e-08, ...,\n",
       "          3.75223353e-18, 4.67670596e-08, 7.03954510e-03],\n",
       "         [2.10012992e-16, 4.76556452e-22, 4.06395000e-16, ...,\n",
       "          4.49027581e-15, 7.51297051e-08, 1.25328071e-07],\n",
       "         ...,\n",
       "         [4.98139191e+01, 2.26450558e+01, 5.83243027e+01, ...,\n",
       "          2.27653179e+01, 2.51315689e+01, 2.73507576e+01],\n",
       "         [0.00000000e+00, 0.00000000e+00, 0.00000000e+00, ...,\n",
       "          2.71047921e-34, 3.48443984e-13, 5.48677301e-20],\n",
       "         [4.98139191e+01, 2.26450558e+01, 5.83243027e+01, ...,\n",
       "          2.27653179e+01, 2.51315689e+01, 2.73507576e+01]],\n",
       "\n",
       "        [[4.98139191e+01, 2.26450558e+01, 5.83243027e+01, ...,\n",
       "          2.27653179e+01, 2.51315689e+01, 2.73507576e+01],\n",
       "         [1.04335240e-05, 2.67998412e-18, 1.38783449e-04, ...,\n",
       "          6.82810196e-07, 4.83968143e-10, 1.06169614e-06],\n",
       "         [4.50253008e-36, 5.54227223e-18, 2.32813551e-19, ...,\n",
       "          2.55000000e+02, 5.89971807e-18, 3.02146422e-26],\n",
       "         ...,\n",
       "         [4.98139191e+01, 2.26450558e+01, 5.83243027e+01, ...,\n",
       "          2.27653179e+01, 2.51315689e+01, 2.73507576e+01],\n",
       "         [2.77976605e-35, 7.30832690e-36, 3.53829948e-28, ...,\n",
       "          1.84778845e-10, 9.40359257e-09, 9.09796246e-21],\n",
       "         [6.34753101e-12, 2.55000000e+02, 2.90516709e-06, ...,\n",
       "          3.15956441e-12, 3.31996519e-09, 8.35216815e-06]],\n",
       "\n",
       "        [[4.98139191e+01, 2.26450558e+01, 5.83243027e+01, ...,\n",
       "          2.27653179e+01, 2.51315689e+01, 2.73507576e+01],\n",
       "         [2.15945786e+02, 1.20513467e-03, 3.42427444e+01, ...,\n",
       "          1.11968848e-05, 4.12783098e+00, 5.16329296e-02],\n",
       "         [1.59980940e-09, 2.39116431e-12, 2.57210347e-14, ...,\n",
       "          3.35943703e-11, 3.63838744e+00, 1.16561409e-04],\n",
       "         ...,\n",
       "         [4.98139191e+01, 2.26450558e+01, 5.83243027e+01, ...,\n",
       "          2.27653179e+01, 2.51315689e+01, 2.73507576e+01],\n",
       "         [4.98139191e+01, 2.26450558e+01, 5.83243027e+01, ...,\n",
       "          2.27653179e+01, 2.51315689e+01, 2.73507576e+01],\n",
       "         [1.21580577e-03, 2.54453125e+02, 2.65522242e-01, ...,\n",
       "          5.75218117e-04, 1.02878753e-02, 2.60037184e-01]]]],\n",
       "      dtype=float32)"
      ]
     },
     "execution_count": 84,
     "metadata": {},
     "output_type": "execute_result"
    }
   ],
   "source": [
    "predictions*255"
   ]
  },
  {
   "cell_type": "code",
   "execution_count": 90,
   "id": "8087f927",
   "metadata": {},
   "outputs": [
    {
     "data": {
      "text/plain": [
       "array([1.3063446e-06, 9.7940320e-01, 1.5122761e-03, 1.6293925e-05,\n",
       "       1.6455726e-03, 1.5086294e-02, 5.2904745e-04, 1.8060950e-03],\n",
       "      dtype=float32)"
      ]
     },
     "execution_count": 90,
     "metadata": {},
     "output_type": "execute_result"
    }
   ],
   "source": [
    "predictions[0][0][0]"
   ]
  },
  {
   "cell_type": "code",
   "execution_count": 47,
   "id": "7499182a",
   "metadata": {},
   "outputs": [],
   "source": [
    "Label = namedtuple( 'Label' , [\n",
    "\n",
    "    'name'        , # The identifier of this label, e.g. 'car', 'person', ... .\n",
    "                    # We use them to uniquely name a class\n",
    "\n",
    "    'id'          , # An integer ID that is associated with this label.\n",
    "                    # The IDs are used to represent the label in ground truth images\n",
    "                    # An ID of -1 means that this label does not have an ID and thus\n",
    "                    # is ignored when creating ground truth images (e.g. license plate).\n",
    "                    # Do not modify these IDs, since exactly these IDs are expected by the\n",
    "                    # evaluation server.\n",
    "\n",
    "    'trainId'     , # Feel free to modify these IDs as suitable for your method. Then create\n",
    "                    # ground truth images with train IDs, using the tools provided in the\n",
    "                    # 'preparation' folder. However, make sure to validate or submit results\n",
    "                    # to our evaluation server using the regular IDs above!\n",
    "                    # For trainIds, multiple labels might have the same ID. Then, these labels\n",
    "                    # are mapped to the same class in the ground truth images. For the inverse\n",
    "                    # mapping, we use the label that is defined first in the list below.\n",
    "                    # For example, mapping all void-type classes to the same ID in training,\n",
    "                    # might make sense for some approaches.\n",
    "                    # Max value is 255!\n",
    "\n",
    "    'category'    , # The name of the category that this label belongs to\n",
    "\n",
    "    'categoryId'  , # The ID of this category. Used to create ground truth images\n",
    "                    # on category level.\n",
    "\n",
    "    'hasInstances', # Whether this label distinguishes between single instances or not\n",
    "\n",
    "    'ignoreInEval', # Whether pixels having this class as ground truth label are ignored\n",
    "                    # during evaluations or not\n",
    "\n",
    "    'color'       , # The color of this label\n",
    "    ] )"
   ]
  },
  {
   "cell_type": "code",
   "execution_count": 76,
   "id": "0f011348",
   "metadata": {},
   "outputs": [],
   "source": [
    "labels = [\n",
    "    #       name                     id    trainId   category            catId     hasInstances   ignoreInEval   color\n",
    "    Label(  'unlabeled'            ,  0 ,      255 , 'void'            , 0       , False        , True         , (  0,  0,  0) ),\n",
    "    Label(  'ego vehicle'          ,  1 ,      255 , 'void'            , 0       , False        , True         , (  0,  0,  0) ),\n",
    "    Label(  'rectification border' ,  2 ,      255 , 'void'            , 0       , False        , True         , (  0,  0,  0) ),\n",
    "    Label(  'out of roi'           ,  3 ,      255 , 'void'            , 0       , False        , True         , (  0,  0,  0) ),\n",
    "    Label(  'static'               ,  4 ,      255 , 'void'            , 0       , False        , True         , (  0,  0,  0) ),\n",
    "    Label(  'dynamic'              ,  5 ,      255 , 'void'            , 0       , False        , True         , (111, 74,  0) ),\n",
    "    Label(  'ground'               ,  6 ,      255 , 'void'            , 0       , False        , True         , ( 81,  0, 81) ),\n",
    "    Label(  'road'                 ,  7 ,        0 , 'flat'            , 1       , False        , False        , (128, 64,128) ),\n",
    "    Label(  'sidewalk'             ,  8 ,        1 , 'flat'            , 1       , False        , False        , (244, 35,232) ),\n",
    "    Label(  'parking'              ,  9 ,      255 , 'flat'            , 1       , False        , True         , (250,170,160) ),\n",
    "    Label(  'rail track'           , 10 ,      255 , 'flat'            , 1       , False        , True         , (230,150,140) ),\n",
    "    Label(  'building'             , 11 ,        2 , 'construction'    , 2       , False        , False        , ( 70, 70, 70) ),\n",
    "    Label(  'wall'                 , 12 ,        3 , 'construction'    , 2       , False        , False        , (102,102,156) ),\n",
    "    Label(  'fence'                , 13 ,        4 , 'construction'    , 2       , False        , False        , (190,153,153) ),\n",
    "    Label(  'guard rail'           , 14 ,      255 , 'construction'    , 2       , False        , True         , (180,165,180) ),\n",
    "    Label(  'bridge'               , 15 ,      255 , 'construction'    , 2       , False        , True         , (150,100,100) ),\n",
    "    Label(  'tunnel'               , 16 ,      255 , 'construction'    , 2       , False        , True         , (150,120, 90) ),\n",
    "    Label(  'pole'                 , 17 ,        5 , 'object'          , 3       , False        , False        , (153,153,153) ),\n",
    "    Label(  'polegroup'            , 18 ,      255 , 'object'          , 3       , False        , True         , (153,153,153) ),\n",
    "    Label(  'traffic light'        , 19 ,        6 , 'object'          , 3       , False        , False        , (250,170, 30) ),\n",
    "    Label(  'traffic sign'         , 20 ,        7 , 'object'          , 3       , False        , False        , (220,220,  0) ),\n",
    "    Label(  'vegetation'           , 21 ,        8 , 'nature'          , 4       , False        , False        , (107,142, 35) ),\n",
    "    Label(  'terrain'              , 22 ,        9 , 'nature'          , 4       , False        , False        , (152,251,152) ),\n",
    "    Label(  'sky'                  , 23 ,       10 , 'sky'             , 5       , False        , False        , ( 70,130,180) ),\n",
    "    Label(  'person'               , 24 ,       11 , 'human'           , 6       , True         , False        , (220, 20, 60) ),\n",
    "    Label(  'rider'                , 25 ,       12 , 'human'           , 6       , True         , False        , (255,  0,  0) ),\n",
    "    Label(  'car'                  , 26 ,       13 , 'vehicle'         , 7       , True         , False        , (  0,  0,142) ),\n",
    "    Label(  'truck'                , 27 ,       14 , 'vehicle'         , 7       , True         , False        , (  0,  0, 70) ),\n",
    "    Label(  'bus'                  , 28 ,       15 , 'vehicle'         , 7       , True         , False        , (  0, 60,100) ),\n",
    "    Label(  'caravan'              , 29 ,      255 , 'vehicle'         , 7       , True         , True         , (  0,  0, 90) ),\n",
    "    Label(  'trailer'              , 30 ,      255 , 'vehicle'         , 7       , True         , True         , (  0,  0,110) ),\n",
    "    Label(  'train'                , 31 ,       16 , 'vehicle'         , 7       , True         , False        , (  0, 80,100) ),\n",
    "    Label(  'motorcycle'           , 32 ,       17 , 'vehicle'         , 7       , True         , False        , (  0,  0,230) ),\n",
    "    Label(  'bicycle'              , 33 ,       18 , 'vehicle'         , 7       , True         , False        , (119, 11, 32) ),\n",
    "    Label(  'license plate'        , -1 ,       -1 , 'vehicle'         , 7       , False        , True         , (  0,  0,142) ),\n",
    "]"
   ]
  },
  {
   "cell_type": "code",
   "execution_count": 77,
   "id": "51257826",
   "metadata": {},
   "outputs": [
    {
     "ename": "AttributeError",
     "evalue": "'Label' object has no attribute 'append'",
     "output_type": "error",
     "traceback": [
      "\u001b[1;31m---------------------------------------------------------------------------\u001b[0m",
      "\u001b[1;31mAttributeError\u001b[0m                            Traceback (most recent call last)",
      "Cell \u001b[1;32mIn[77], line 21\u001b[0m\n\u001b[0;32m     19\u001b[0m category \u001b[38;5;241m=\u001b[39m label\u001b[38;5;241m.\u001b[39mcategory\n\u001b[0;32m     20\u001b[0m \u001b[38;5;28;01mif\u001b[39;00m category \u001b[38;5;129;01min\u001b[39;00m cat_couleur :\n\u001b[1;32m---> 21\u001b[0m     \u001b[43mcat_couleur\u001b[49m\u001b[43m[\u001b[49m\u001b[43mcategory\u001b[49m\u001b[43m]\u001b[49m\u001b[38;5;241;43m.\u001b[39;49m\u001b[43mappend\u001b[49m(label)\n\u001b[0;32m     22\u001b[0m \u001b[38;5;28;01melse\u001b[39;00m :\n\u001b[0;32m     23\u001b[0m     cat_couleur[category] \u001b[38;5;241m=\u001b[39m label\n",
      "\u001b[1;31mAttributeError\u001b[0m: 'Label' object has no attribute 'append'"
     ]
    }
   ],
   "source": [
    "couleur = {'void': [0, 1, 2, 3, 4, 5, 6],\n",
    "             'flat': [7, 8, 9, 10],\n",
    "             'construction': [11, 12, 13, 14, 15, 16],\n",
    "             'object': [17, 18, 19, 20],\n",
    "             'nature': [21, 22],\n",
    "             'sky': [23],\n",
    "             'human': [24, 25],\n",
    "             'vehicle': [26, 27, 28, 29, 30, 31, 32, 33, -1]}\n",
    "couleur_id = {'void': (0),\n",
    "              'flat': (1),\n",
    "             'construction': (2),\n",
    "             'object': (3),\n",
    "             'nature': (4),\n",
    "             'sky': (5),\n",
    "             'human': (6),\n",
    "             'vehicle': (7)}\n",
    "cat_couleur = {}\n",
    "for label in labels :\n",
    "    category = label.category\n",
    "    if category in cat_couleur :\n",
    "        cat_couleur[category].append(label)\n",
    "    else :\n",
    "        cat_couleur[category] = label\n",
    "    "
   ]
  },
  {
   "cell_type": "code",
   "execution_count": 59,
   "id": "c9955f97",
   "metadata": {},
   "outputs": [
    {
     "data": {
      "text/plain": [
       "(1, 16384, 8)"
      ]
     },
     "execution_count": 59,
     "metadata": {},
     "output_type": "execute_result"
    }
   ],
   "source": [
    "predictions.shape"
   ]
  },
  {
   "cell_type": "code",
   "execution_count": 63,
   "id": "135ee598",
   "metadata": {},
   "outputs": [
    {
     "ename": "ValueError",
     "evalue": "cannot reshape array of size 131072 into shape (1,256,256,8)",
     "output_type": "error",
     "traceback": [
      "\u001b[1;31m---------------------------------------------------------------------------\u001b[0m",
      "\u001b[1;31mValueError\u001b[0m                                Traceback (most recent call last)",
      "Cell \u001b[1;32mIn[63], line 1\u001b[0m\n\u001b[1;32m----> 1\u001b[0m predictions \u001b[38;5;241m=\u001b[39m \u001b[43mpredictions\u001b[49m\u001b[38;5;241;43m.\u001b[39;49m\u001b[43mreshape\u001b[49m\u001b[43m(\u001b[49m\u001b[38;5;241;43m1\u001b[39;49m\u001b[43m,\u001b[49m\u001b[38;5;241;43m256\u001b[39;49m\u001b[43m,\u001b[49m\u001b[38;5;241;43m256\u001b[39;49m\u001b[43m,\u001b[49m\u001b[38;5;241;43m8\u001b[39;49m\u001b[43m)\u001b[49m\n\u001b[0;32m      2\u001b[0m predictions\n",
      "\u001b[1;31mValueError\u001b[0m: cannot reshape array of size 131072 into shape (1,256,256,8)"
     ]
    }
   ],
   "source": [
    "predictions = predictions.reshape(1,256,256,8)\n",
    "predictions"
   ]
  },
  {
   "cell_type": "code",
   "execution_count": 85,
   "id": "5ad5640c",
   "metadata": {},
   "outputs": [
    {
     "data": {
      "text/plain": [
       "(256, 256, 8)"
      ]
     },
     "execution_count": 85,
     "metadata": {},
     "output_type": "execute_result"
    }
   ],
   "source": [
    "predictions.shape\n",
    "prediction_image = np.squeeze(predictions*255)\n",
    "prediction_image.shape"
   ]
  },
  {
   "cell_type": "code",
   "execution_count": 86,
   "id": "f36d928c",
   "metadata": {},
   "outputs": [],
   "source": [
    "seg_img = np.zeros((256,256,3),dtype=np.uint8)\n",
    "for id in range(prediction_image.shape[2]) :\n",
    "    couleur_seg = cat_couleur.get(id,(0,0,0))\n",
    "    for j in range(3) :\n",
    "        seg_img[:,:,j] += (prediction_image[:,:,id]*couleur_seg[j]).astype(np.uint8)"
   ]
  },
  {
   "cell_type": "code",
   "execution_count": 87,
   "id": "52992ca7",
   "metadata": {},
   "outputs": [
    {
     "data": {
      "text/plain": [
       "(256, 256, 3)"
      ]
     },
     "execution_count": 87,
     "metadata": {},
     "output_type": "execute_result"
    }
   ],
   "source": [
    "seg_img.shape"
   ]
  },
  {
   "cell_type": "code",
   "execution_count": 88,
   "id": "2f08845d",
   "metadata": {},
   "outputs": [
    {
     "data": {
      "text/plain": [
       "array([[[0, 0, 0],\n",
       "        [0, 0, 0],\n",
       "        [0, 0, 0],\n",
       "        ...,\n",
       "        [0, 0, 0],\n",
       "        [0, 0, 0],\n",
       "        [0, 0, 0]],\n",
       "\n",
       "       [[0, 0, 0],\n",
       "        [0, 0, 0],\n",
       "        [0, 0, 0],\n",
       "        ...,\n",
       "        [0, 0, 0],\n",
       "        [0, 0, 0],\n",
       "        [0, 0, 0]],\n",
       "\n",
       "       [[0, 0, 0],\n",
       "        [0, 0, 0],\n",
       "        [0, 0, 0],\n",
       "        ...,\n",
       "        [0, 0, 0],\n",
       "        [0, 0, 0],\n",
       "        [0, 0, 0]],\n",
       "\n",
       "       ...,\n",
       "\n",
       "       [[0, 0, 0],\n",
       "        [0, 0, 0],\n",
       "        [0, 0, 0],\n",
       "        ...,\n",
       "        [0, 0, 0],\n",
       "        [0, 0, 0],\n",
       "        [0, 0, 0]],\n",
       "\n",
       "       [[0, 0, 0],\n",
       "        [0, 0, 0],\n",
       "        [0, 0, 0],\n",
       "        ...,\n",
       "        [0, 0, 0],\n",
       "        [0, 0, 0],\n",
       "        [0, 0, 0]],\n",
       "\n",
       "       [[0, 0, 0],\n",
       "        [0, 0, 0],\n",
       "        [0, 0, 0],\n",
       "        ...,\n",
       "        [0, 0, 0],\n",
       "        [0, 0, 0],\n",
       "        [0, 0, 0]]], dtype=uint8)"
      ]
     },
     "execution_count": 88,
     "metadata": {},
     "output_type": "execute_result"
    }
   ],
   "source": [
    "seg_img"
   ]
  },
  {
   "cell_type": "code",
   "execution_count": 89,
   "id": "4aaeb2e8",
   "metadata": {},
   "outputs": [
    {
     "data": {
      "image/png": "[encoded data removed]",
      "text/plain": [
       "<Figure size 640x480 with 1 Axes>"
      ]
     },
     "metadata": {},
     "output_type": "display_data"
    }
   ],
   "source": [
    "plt.imshow(seg_img)\n",
    "plt.axis('off')  # Pour ne pas afficher les axes\n",
    "plt.show()"
   ]
  }
 ],
 "metadata": {
  "kernelspec": {
   "display_name": "Python 3 (ipykernel)",
   "language": "python",
   "name": "python3"
  },
  "language_info": {
   "codemirror_mode": {
    "name": "ipython",
    "version": 3
   },
   "file_extension": ".py",
   "mimetype": "text/x-python",
   "name": "python",
   "nbconvert_exporter": "python",
   "pygments_lexer": "ipython3",
   "version": "3.8.18"
  }
 },
 "nbformat": 4,
 "nbformat_minor": 5
}
